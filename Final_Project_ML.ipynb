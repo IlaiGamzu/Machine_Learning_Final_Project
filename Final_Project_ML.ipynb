{
  "cells": [
    {
      "cell_type": "markdown",
      "metadata": {
        "id": "in9JW_6fxwTG"
      },
      "source": [
        "# Heart Disease Health Indicators\n",
        "\n"
      ]
    },
    {
      "cell_type": "markdown",
      "metadata": {
        "id": "fstCyL0dK0_z"
      },
      "source": [
        "# Import libraries"
      ]
    },
    {
      "cell_type": "code",
      "execution_count": null,
      "metadata": {
        "id": "vgj7JWz4B-IW"
      },
      "outputs": [],
      "source": [
        "import pandas as pd\n",
        "from sklearn.model_selection import train_test_split\n",
        "from sklearn.linear_model import LogisticRegression\n",
        "from sklearn import metrics\n",
        "from sklearn import preprocessing\n",
        "import seaborn as sn\n",
        "import matplotlib.pyplot as plt\n",
        "from sklearn.neighbors import KNeighborsClassifier\n",
        "from sklearn.model_selection import cross_val_score\n",
        "from sklearn.ensemble import AdaBoostClassifier\n",
        "from sklearn.metrics import f1_score\n",
        "from sklearn.metrics import accuracy_score\n",
        "from sklearn.tree import DecisionTreeClassifier\n",
        "import seaborn as sns\n",
        "from sklearn.decomposition import PCA\n"
      ]
    },
    {
      "cell_type": "code",
      "execution_count": null,
      "metadata": {
        "colab": {
          "base_uri": "https://localhost:8080/"
        },
        "id": "pRxzmwVYJNUB",
        "outputId": "bef50a49-ae04-4304-f681-d6d1107e2ac8"
      },
      "outputs": [
        {
          "output_type": "stream",
          "name": "stdout",
          "text": [
            "Mounted at /content/drive\n"
          ]
        }
      ],
      "source": [
        "from google.colab import drive\n",
        "drive.mount('/content/drive',force_remount=True)"
      ]
    },
    {
      "cell_type": "markdown",
      "metadata": {
        "id": "JP33TmzHyHeZ"
      },
      "source": [
        "First we load the data."
      ]
    },
    {
      "cell_type": "code",
      "execution_count": null,
      "metadata": {
        "id": "Q2SxPDP7yK6o"
      },
      "outputs": [],
      "source": [
        "path = \"/content/drive/MyDrive/Final_project_ML/heart_disease_health_indicators_BRFSS2015.csv\"\n",
        "df=pd.read_csv(path)\n"
      ]
    },
    {
      "cell_type": "markdown",
      "metadata": {
        "id": "jN3g7d34yRDW"
      },
      "source": [
        "Exploring the dataset"
      ]
    },
    {
      "cell_type": "code",
      "execution_count": null,
      "metadata": {
        "id": "tBrpFE7XyW4J",
        "colab": {
          "base_uri": "https://localhost:8080/",
          "height": 274
        },
        "outputId": "749a94b7-3a61-4969-f560-99faae322d4c"
      },
      "outputs": [
        {
          "output_type": "stream",
          "name": "stdout",
          "text": [
            "Data shape : (253680, 22)\n"
          ]
        },
        {
          "output_type": "execute_result",
          "data": {
            "text/plain": [
              "   HeartDiseaseorAttack  HighBP  HighChol  CholCheck   BMI  Smoker  Stroke  \\\n",
              "0                   0.0     1.0       1.0        1.0  40.0     1.0     0.0   \n",
              "1                   0.0     0.0       0.0        0.0  25.0     1.0     0.0   \n",
              "2                   0.0     1.0       1.0        1.0  28.0     0.0     0.0   \n",
              "3                   0.0     1.0       0.0        1.0  27.0     0.0     0.0   \n",
              "4                   0.0     1.0       1.0        1.0  24.0     0.0     0.0   \n",
              "\n",
              "   Diabetes  PhysActivity  Fruits  ...  AnyHealthcare  NoDocbcCost  GenHlth  \\\n",
              "0       0.0           0.0     0.0  ...            1.0          0.0      5.0   \n",
              "1       0.0           1.0     0.0  ...            0.0          1.0      3.0   \n",
              "2       0.0           0.0     1.0  ...            1.0          1.0      5.0   \n",
              "3       0.0           1.0     1.0  ...            1.0          0.0      2.0   \n",
              "4       0.0           1.0     1.0  ...            1.0          0.0      2.0   \n",
              "\n",
              "   MentHlth  PhysHlth  DiffWalk  Sex   Age  Education  Income  \n",
              "0      18.0      15.0       1.0  0.0   9.0        4.0     3.0  \n",
              "1       0.0       0.0       0.0  0.0   7.0        6.0     1.0  \n",
              "2      30.0      30.0       1.0  0.0   9.0        4.0     8.0  \n",
              "3       0.0       0.0       0.0  0.0  11.0        3.0     6.0  \n",
              "4       3.0       0.0       0.0  0.0  11.0        5.0     4.0  \n",
              "\n",
              "[5 rows x 22 columns]"
            ],
            "text/html": [
              "\n",
              "  <div id=\"df-cea2b60f-5871-4354-a6c2-cd8d90a34fc0\" class=\"colab-df-container\">\n",
              "    <div>\n",
              "<style scoped>\n",
              "    .dataframe tbody tr th:only-of-type {\n",
              "        vertical-align: middle;\n",
              "    }\n",
              "\n",
              "    .dataframe tbody tr th {\n",
              "        vertical-align: top;\n",
              "    }\n",
              "\n",
              "    .dataframe thead th {\n",
              "        text-align: right;\n",
              "    }\n",
              "</style>\n",
              "<table border=\"1\" class=\"dataframe\">\n",
              "  <thead>\n",
              "    <tr style=\"text-align: right;\">\n",
              "      <th></th>\n",
              "      <th>HeartDiseaseorAttack</th>\n",
              "      <th>HighBP</th>\n",
              "      <th>HighChol</th>\n",
              "      <th>CholCheck</th>\n",
              "      <th>BMI</th>\n",
              "      <th>Smoker</th>\n",
              "      <th>Stroke</th>\n",
              "      <th>Diabetes</th>\n",
              "      <th>PhysActivity</th>\n",
              "      <th>Fruits</th>\n",
              "      <th>...</th>\n",
              "      <th>AnyHealthcare</th>\n",
              "      <th>NoDocbcCost</th>\n",
              "      <th>GenHlth</th>\n",
              "      <th>MentHlth</th>\n",
              "      <th>PhysHlth</th>\n",
              "      <th>DiffWalk</th>\n",
              "      <th>Sex</th>\n",
              "      <th>Age</th>\n",
              "      <th>Education</th>\n",
              "      <th>Income</th>\n",
              "    </tr>\n",
              "  </thead>\n",
              "  <tbody>\n",
              "    <tr>\n",
              "      <th>0</th>\n",
              "      <td>0.0</td>\n",
              "      <td>1.0</td>\n",
              "      <td>1.0</td>\n",
              "      <td>1.0</td>\n",
              "      <td>40.0</td>\n",
              "      <td>1.0</td>\n",
              "      <td>0.0</td>\n",
              "      <td>0.0</td>\n",
              "      <td>0.0</td>\n",
              "      <td>0.0</td>\n",
              "      <td>...</td>\n",
              "      <td>1.0</td>\n",
              "      <td>0.0</td>\n",
              "      <td>5.0</td>\n",
              "      <td>18.0</td>\n",
              "      <td>15.0</td>\n",
              "      <td>1.0</td>\n",
              "      <td>0.0</td>\n",
              "      <td>9.0</td>\n",
              "      <td>4.0</td>\n",
              "      <td>3.0</td>\n",
              "    </tr>\n",
              "    <tr>\n",
              "      <th>1</th>\n",
              "      <td>0.0</td>\n",
              "      <td>0.0</td>\n",
              "      <td>0.0</td>\n",
              "      <td>0.0</td>\n",
              "      <td>25.0</td>\n",
              "      <td>1.0</td>\n",
              "      <td>0.0</td>\n",
              "      <td>0.0</td>\n",
              "      <td>1.0</td>\n",
              "      <td>0.0</td>\n",
              "      <td>...</td>\n",
              "      <td>0.0</td>\n",
              "      <td>1.0</td>\n",
              "      <td>3.0</td>\n",
              "      <td>0.0</td>\n",
              "      <td>0.0</td>\n",
              "      <td>0.0</td>\n",
              "      <td>0.0</td>\n",
              "      <td>7.0</td>\n",
              "      <td>6.0</td>\n",
              "      <td>1.0</td>\n",
              "    </tr>\n",
              "    <tr>\n",
              "      <th>2</th>\n",
              "      <td>0.0</td>\n",
              "      <td>1.0</td>\n",
              "      <td>1.0</td>\n",
              "      <td>1.0</td>\n",
              "      <td>28.0</td>\n",
              "      <td>0.0</td>\n",
              "      <td>0.0</td>\n",
              "      <td>0.0</td>\n",
              "      <td>0.0</td>\n",
              "      <td>1.0</td>\n",
              "      <td>...</td>\n",
              "      <td>1.0</td>\n",
              "      <td>1.0</td>\n",
              "      <td>5.0</td>\n",
              "      <td>30.0</td>\n",
              "      <td>30.0</td>\n",
              "      <td>1.0</td>\n",
              "      <td>0.0</td>\n",
              "      <td>9.0</td>\n",
              "      <td>4.0</td>\n",
              "      <td>8.0</td>\n",
              "    </tr>\n",
              "    <tr>\n",
              "      <th>3</th>\n",
              "      <td>0.0</td>\n",
              "      <td>1.0</td>\n",
              "      <td>0.0</td>\n",
              "      <td>1.0</td>\n",
              "      <td>27.0</td>\n",
              "      <td>0.0</td>\n",
              "      <td>0.0</td>\n",
              "      <td>0.0</td>\n",
              "      <td>1.0</td>\n",
              "      <td>1.0</td>\n",
              "      <td>...</td>\n",
              "      <td>1.0</td>\n",
              "      <td>0.0</td>\n",
              "      <td>2.0</td>\n",
              "      <td>0.0</td>\n",
              "      <td>0.0</td>\n",
              "      <td>0.0</td>\n",
              "      <td>0.0</td>\n",
              "      <td>11.0</td>\n",
              "      <td>3.0</td>\n",
              "      <td>6.0</td>\n",
              "    </tr>\n",
              "    <tr>\n",
              "      <th>4</th>\n",
              "      <td>0.0</td>\n",
              "      <td>1.0</td>\n",
              "      <td>1.0</td>\n",
              "      <td>1.0</td>\n",
              "      <td>24.0</td>\n",
              "      <td>0.0</td>\n",
              "      <td>0.0</td>\n",
              "      <td>0.0</td>\n",
              "      <td>1.0</td>\n",
              "      <td>1.0</td>\n",
              "      <td>...</td>\n",
              "      <td>1.0</td>\n",
              "      <td>0.0</td>\n",
              "      <td>2.0</td>\n",
              "      <td>3.0</td>\n",
              "      <td>0.0</td>\n",
              "      <td>0.0</td>\n",
              "      <td>0.0</td>\n",
              "      <td>11.0</td>\n",
              "      <td>5.0</td>\n",
              "      <td>4.0</td>\n",
              "    </tr>\n",
              "  </tbody>\n",
              "</table>\n",
              "<p>5 rows × 22 columns</p>\n",
              "</div>\n",
              "    <div class=\"colab-df-buttons\">\n",
              "\n",
              "  <div class=\"colab-df-container\">\n",
              "    <button class=\"colab-df-convert\" onclick=\"convertToInteractive('df-cea2b60f-5871-4354-a6c2-cd8d90a34fc0')\"\n",
              "            title=\"Convert this dataframe to an interactive table.\"\n",
              "            style=\"display:none;\">\n",
              "\n",
              "  <svg xmlns=\"http://www.w3.org/2000/svg\" height=\"24px\" viewBox=\"0 -960 960 960\">\n",
              "    <path d=\"M120-120v-720h720v720H120Zm60-500h600v-160H180v160Zm220 220h160v-160H400v160Zm0 220h160v-160H400v160ZM180-400h160v-160H180v160Zm440 0h160v-160H620v160ZM180-180h160v-160H180v160Zm440 0h160v-160H620v160Z\"/>\n",
              "  </svg>\n",
              "    </button>\n",
              "\n",
              "  <style>\n",
              "    .colab-df-container {\n",
              "      display:flex;\n",
              "      gap: 12px;\n",
              "    }\n",
              "\n",
              "    .colab-df-convert {\n",
              "      background-color: #E8F0FE;\n",
              "      border: none;\n",
              "      border-radius: 50%;\n",
              "      cursor: pointer;\n",
              "      display: none;\n",
              "      fill: #1967D2;\n",
              "      height: 32px;\n",
              "      padding: 0 0 0 0;\n",
              "      width: 32px;\n",
              "    }\n",
              "\n",
              "    .colab-df-convert:hover {\n",
              "      background-color: #E2EBFA;\n",
              "      box-shadow: 0px 1px 2px rgba(60, 64, 67, 0.3), 0px 1px 3px 1px rgba(60, 64, 67, 0.15);\n",
              "      fill: #174EA6;\n",
              "    }\n",
              "\n",
              "    .colab-df-buttons div {\n",
              "      margin-bottom: 4px;\n",
              "    }\n",
              "\n",
              "    [theme=dark] .colab-df-convert {\n",
              "      background-color: #3B4455;\n",
              "      fill: #D2E3FC;\n",
              "    }\n",
              "\n",
              "    [theme=dark] .colab-df-convert:hover {\n",
              "      background-color: #434B5C;\n",
              "      box-shadow: 0px 1px 3px 1px rgba(0, 0, 0, 0.15);\n",
              "      filter: drop-shadow(0px 1px 2px rgba(0, 0, 0, 0.3));\n",
              "      fill: #FFFFFF;\n",
              "    }\n",
              "  </style>\n",
              "\n",
              "    <script>\n",
              "      const buttonEl =\n",
              "        document.querySelector('#df-cea2b60f-5871-4354-a6c2-cd8d90a34fc0 button.colab-df-convert');\n",
              "      buttonEl.style.display =\n",
              "        google.colab.kernel.accessAllowed ? 'block' : 'none';\n",
              "\n",
              "      async function convertToInteractive(key) {\n",
              "        const element = document.querySelector('#df-cea2b60f-5871-4354-a6c2-cd8d90a34fc0');\n",
              "        const dataTable =\n",
              "          await google.colab.kernel.invokeFunction('convertToInteractive',\n",
              "                                                    [key], {});\n",
              "        if (!dataTable) return;\n",
              "\n",
              "        const docLinkHtml = 'Like what you see? Visit the ' +\n",
              "          '<a target=\"_blank\" href=https://colab.research.google.com/notebooks/data_table.ipynb>data table notebook</a>'\n",
              "          + ' to learn more about interactive tables.';\n",
              "        element.innerHTML = '';\n",
              "        dataTable['output_type'] = 'display_data';\n",
              "        await google.colab.output.renderOutput(dataTable, element);\n",
              "        const docLink = document.createElement('div');\n",
              "        docLink.innerHTML = docLinkHtml;\n",
              "        element.appendChild(docLink);\n",
              "      }\n",
              "    </script>\n",
              "  </div>\n",
              "\n",
              "\n",
              "<div id=\"df-ccfc6e6b-813b-4d8e-bb01-71aa420f96cd\">\n",
              "  <button class=\"colab-df-quickchart\" onclick=\"quickchart('df-ccfc6e6b-813b-4d8e-bb01-71aa420f96cd')\"\n",
              "            title=\"Suggest charts.\"\n",
              "            style=\"display:none;\">\n",
              "\n",
              "<svg xmlns=\"http://www.w3.org/2000/svg\" height=\"24px\"viewBox=\"0 0 24 24\"\n",
              "     width=\"24px\">\n",
              "    <g>\n",
              "        <path d=\"M19 3H5c-1.1 0-2 .9-2 2v14c0 1.1.9 2 2 2h14c1.1 0 2-.9 2-2V5c0-1.1-.9-2-2-2zM9 17H7v-7h2v7zm4 0h-2V7h2v10zm4 0h-2v-4h2v4z\"/>\n",
              "    </g>\n",
              "</svg>\n",
              "  </button>\n",
              "\n",
              "<style>\n",
              "  .colab-df-quickchart {\n",
              "      --bg-color: #E8F0FE;\n",
              "      --fill-color: #1967D2;\n",
              "      --hover-bg-color: #E2EBFA;\n",
              "      --hover-fill-color: #174EA6;\n",
              "      --disabled-fill-color: #AAA;\n",
              "      --disabled-bg-color: #DDD;\n",
              "  }\n",
              "\n",
              "  [theme=dark] .colab-df-quickchart {\n",
              "      --bg-color: #3B4455;\n",
              "      --fill-color: #D2E3FC;\n",
              "      --hover-bg-color: #434B5C;\n",
              "      --hover-fill-color: #FFFFFF;\n",
              "      --disabled-bg-color: #3B4455;\n",
              "      --disabled-fill-color: #666;\n",
              "  }\n",
              "\n",
              "  .colab-df-quickchart {\n",
              "    background-color: var(--bg-color);\n",
              "    border: none;\n",
              "    border-radius: 50%;\n",
              "    cursor: pointer;\n",
              "    display: none;\n",
              "    fill: var(--fill-color);\n",
              "    height: 32px;\n",
              "    padding: 0;\n",
              "    width: 32px;\n",
              "  }\n",
              "\n",
              "  .colab-df-quickchart:hover {\n",
              "    background-color: var(--hover-bg-color);\n",
              "    box-shadow: 0 1px 2px rgba(60, 64, 67, 0.3), 0 1px 3px 1px rgba(60, 64, 67, 0.15);\n",
              "    fill: var(--button-hover-fill-color);\n",
              "  }\n",
              "\n",
              "  .colab-df-quickchart-complete:disabled,\n",
              "  .colab-df-quickchart-complete:disabled:hover {\n",
              "    background-color: var(--disabled-bg-color);\n",
              "    fill: var(--disabled-fill-color);\n",
              "    box-shadow: none;\n",
              "  }\n",
              "\n",
              "  .colab-df-spinner {\n",
              "    border: 2px solid var(--fill-color);\n",
              "    border-color: transparent;\n",
              "    border-bottom-color: var(--fill-color);\n",
              "    animation:\n",
              "      spin 1s steps(1) infinite;\n",
              "  }\n",
              "\n",
              "  @keyframes spin {\n",
              "    0% {\n",
              "      border-color: transparent;\n",
              "      border-bottom-color: var(--fill-color);\n",
              "      border-left-color: var(--fill-color);\n",
              "    }\n",
              "    20% {\n",
              "      border-color: transparent;\n",
              "      border-left-color: var(--fill-color);\n",
              "      border-top-color: var(--fill-color);\n",
              "    }\n",
              "    30% {\n",
              "      border-color: transparent;\n",
              "      border-left-color: var(--fill-color);\n",
              "      border-top-color: var(--fill-color);\n",
              "      border-right-color: var(--fill-color);\n",
              "    }\n",
              "    40% {\n",
              "      border-color: transparent;\n",
              "      border-right-color: var(--fill-color);\n",
              "      border-top-color: var(--fill-color);\n",
              "    }\n",
              "    60% {\n",
              "      border-color: transparent;\n",
              "      border-right-color: var(--fill-color);\n",
              "    }\n",
              "    80% {\n",
              "      border-color: transparent;\n",
              "      border-right-color: var(--fill-color);\n",
              "      border-bottom-color: var(--fill-color);\n",
              "    }\n",
              "    90% {\n",
              "      border-color: transparent;\n",
              "      border-bottom-color: var(--fill-color);\n",
              "    }\n",
              "  }\n",
              "</style>\n",
              "\n",
              "  <script>\n",
              "    async function quickchart(key) {\n",
              "      const quickchartButtonEl =\n",
              "        document.querySelector('#' + key + ' button');\n",
              "      quickchartButtonEl.disabled = true;  // To prevent multiple clicks.\n",
              "      quickchartButtonEl.classList.add('colab-df-spinner');\n",
              "      try {\n",
              "        const charts = await google.colab.kernel.invokeFunction(\n",
              "            'suggestCharts', [key], {});\n",
              "      } catch (error) {\n",
              "        console.error('Error during call to suggestCharts:', error);\n",
              "      }\n",
              "      quickchartButtonEl.classList.remove('colab-df-spinner');\n",
              "      quickchartButtonEl.classList.add('colab-df-quickchart-complete');\n",
              "    }\n",
              "    (() => {\n",
              "      let quickchartButtonEl =\n",
              "        document.querySelector('#df-ccfc6e6b-813b-4d8e-bb01-71aa420f96cd button');\n",
              "      quickchartButtonEl.style.display =\n",
              "        google.colab.kernel.accessAllowed ? 'block' : 'none';\n",
              "    })();\n",
              "  </script>\n",
              "</div>\n",
              "    </div>\n",
              "  </div>\n"
            ]
          },
          "metadata": {},
          "execution_count": 4
        }
      ],
      "source": [
        "print(\"Data shape :\", df.shape)\n",
        "df.head()"
      ]
    },
    {
      "cell_type": "markdown",
      "metadata": {
        "id": "H3Wl196fzSYz"
      },
      "source": [
        "There are 253680 rows (examples) and 22 columns (21 feature + 1 target)\n",
        "Also we remove the duplicate data."
      ]
    },
    {
      "cell_type": "code",
      "execution_count": null,
      "metadata": {
        "id": "Ezl8ENRIzUNl",
        "colab": {
          "base_uri": "https://localhost:8080/"
        },
        "outputId": "93aedc47-5af9-4a90-819b-e2632afc0491"
      },
      "outputs": [
        {
          "output_type": "stream",
          "name": "stdout",
          "text": [
            "data shape : (229781, 22)\n"
          ]
        }
      ],
      "source": [
        "#Removing duplicate Values\n",
        "df.drop_duplicates(inplace=True)\n",
        "\n",
        "print(\"data shape :\",df.shape)"
      ]
    },
    {
      "cell_type": "markdown",
      "metadata": {
        "id": "GyTzgO_uUTmq"
      },
      "source": [
        "# Check Balance of data\n",
        "- We check if the data is balance or not, this information will helps us to analyze the data going forward"
      ]
    },
    {
      "cell_type": "code",
      "execution_count": null,
      "metadata": {
        "id": "KiNzax9J0Xss",
        "colab": {
          "base_uri": "https://localhost:8080/",
          "height": 367
        },
        "outputId": "6cedcdc1-9d14-454f-f8a1-ad0a48664c66"
      },
      "outputs": [
        {
          "output_type": "display_data",
          "data": {
            "text/plain": [
              "<Figure size 400x400 with 1 Axes>"
            ],
            "image/png": "[encoded data removed]"
          },
          "metadata": {}
        }
      ],
      "source": [
        "# Calculate the distribution of the 'HeartDiseaseorAttack' variable\n",
        "heart_disease_counts = df['HeartDiseaseorAttack'].value_counts()\n",
        "\n",
        "# Create a pie chart\n",
        "plt.figure(figsize=(4, 4))  # You can adjust the figure size as needed\n",
        "plt.pie(heart_disease_counts, labels=heart_disease_counts.index, autopct='%1.1f%%', startangle=140)\n",
        "plt.title('Distribution of Heart Disease or Heart Attack')\n",
        "plt.axis('equal')  # Equal aspect ratio ensures that pie is drawn as a circle\n",
        "\n",
        "plt.show()"
      ]
    },
    {
      "cell_type": "markdown",
      "metadata": {
        "id": "xFbQhQpl08_w"
      },
      "source": [
        "- As we can see, the data is highly imbalanced, with a significantly larger number of instances in class 0 compared to class 1\n",
        "  that will affect on the result of models."
      ]
    },
    {
      "cell_type": "markdown",
      "metadata": {
        "id": "0vj_4NhGeDJU"
      },
      "source": [
        "# Normalized The Data\n",
        "- We shuffle the data\n",
        "- normalize the data and split the data to train and test\n",
        "- We shown the means and the standard of normalized."
      ]
    },
    {
      "cell_type": "code",
      "execution_count": null,
      "metadata": {
        "id": "wavmn9yTeCzo",
        "colab": {
          "base_uri": "https://localhost:8080/"
        },
        "outputId": "1ec6b309-3b76-4f41-b278-412bde458bea"
      },
      "outputs": [
        {
          "output_type": "stream",
          "name": "stdout",
          "text": [
            "The means is :  HighBP               8.564016e-17\n",
            "HighChol            -1.479337e-16\n",
            "CholCheck            1.601791e-16\n",
            "BMI                 -1.992034e-16\n",
            "Smoker              -4.168754e-17\n",
            "Stroke               1.011169e-17\n",
            "Diabetes             1.216031e-16\n",
            "PhysActivity         4.222482e-17\n",
            "Fruits              -8.795935e-17\n",
            "Veggies             -1.398166e-16\n",
            "HvyAlcoholConsump    6.329857e-17\n",
            "AnyHealthcare       -9.245859e-17\n",
            "NoDocbcCost          4.981632e-17\n",
            "GenHlth              1.338176e-16\n",
            "MentHlth             3.607122e-17\n",
            "PhysHlth            -3.151787e-17\n",
            "DiffWalk            -9.616931e-18\n",
            "Sex                  4.086422e-17\n",
            "Age                 -1.573188e-16\n",
            "Education           -1.447487e-16\n",
            "Income              -1.782688e-17\n",
            "dtype: float64\n",
            "The std is :  HighBP               1.000002\n",
            "HighChol             1.000002\n",
            "CholCheck            1.000002\n",
            "BMI                  1.000002\n",
            "Smoker               1.000002\n",
            "Stroke               1.000002\n",
            "Diabetes             1.000002\n",
            "PhysActivity         1.000002\n",
            "Fruits               1.000002\n",
            "Veggies              1.000002\n",
            "HvyAlcoholConsump    1.000002\n",
            "AnyHealthcare        1.000002\n",
            "NoDocbcCost          1.000002\n",
            "GenHlth              1.000002\n",
            "MentHlth             1.000002\n",
            "PhysHlth             1.000002\n",
            "DiffWalk             1.000002\n",
            "Sex                  1.000002\n",
            "Age                  1.000002\n",
            "Education            1.000002\n",
            "Income               1.000002\n",
            "dtype: float64\n"
          ]
        }
      ],
      "source": [
        "#shuffled the data so that there is no situation where they came in a ready-made format and this will affect the continuation\n",
        "shuffled = df.sample(frac=1)\n",
        "\n",
        "#split the data to X and Y\n",
        "y = shuffled.iloc[:, 0] #HeartDiseaseorAttack\n",
        "x = shuffled.iloc[:, 1:] #All Feature\n",
        "scaler = preprocessing.StandardScaler()\n",
        "d = scaler.fit_transform(x)\n",
        "xNormalized = pd.DataFrame(d, columns=x.columns)\n",
        "mean = xNormalized.mean()\n",
        "std_dev = xNormalized.std()\n",
        "print (\"The means is : \", mean)\n",
        "print (\"The std is : \", std_dev)\n",
        "\n",
        "# split the data to 67% train and 33% test\n",
        "X_train, X_test, y_train, y_test = train_test_split(xNormalized, y, test_size=0.33, random_state=42)"
      ]
    },
    {
      "cell_type": "code",
      "execution_count": null,
      "metadata": {
        "id": "4w4df-sn3nac",
        "colab": {
          "base_uri": "https://localhost:8080/"
        },
        "outputId": "c0f42717-f18e-4088-accc-0fcff8fbc858"
      },
      "outputs": [
        {
          "output_type": "stream",
          "name": "stdout",
          "text": [
            "          HighBP  HighChol  CholCheck       BMI    Smoker    Stroke  Diabetes  \\\n",
            "142299 -0.912679  1.124132   0.205356 -0.395746 -0.933526 -0.216455 -0.449376   \n",
            "112154  1.095675 -0.889575  -4.869594  0.193673 -0.933526 -0.216455 -0.449376   \n",
            "77653  -0.912679  1.124132   0.205356 -1.279874 -0.933526 -0.216455 -0.449376   \n",
            "98419  -0.912679  1.124132   0.205356 -0.248391  1.071208 -0.216455 -0.449376   \n",
            "84307   1.095675  1.124132   0.205356 -0.690456 -0.933526 -0.216455 -0.449376   \n",
            "\n",
            "        PhysActivity    Fruits   Veggies  ...  AnyHealthcare  NoDocbcCost  \\\n",
            "142299       0.60299 -1.258473 -1.968149  ...       0.238745    -0.319852   \n",
            "112154       0.60299 -1.258473  0.508092  ...       0.238745     3.126450   \n",
            "77653        0.60299  0.794614  0.508092  ...       0.238745    -0.319852   \n",
            "98419        0.60299 -1.258473  0.508092  ...       0.238745    -0.319852   \n",
            "84307        0.60299  0.794614  0.508092  ...       0.238745    -0.319852   \n",
            "\n",
            "         GenHlth  MentHlth  PhysHlth  DiffWalk       Sex       Age  Education  \\\n",
            "142299  0.374618  0.064123 -0.516791  -0.47724  1.129914 -0.997666   0.019571   \n",
            "112154 -0.564629 -0.454434 -0.516791  -0.47724  1.129914 -1.967347   0.019571   \n",
            "77653   0.374618 -0.454434 -0.295713  -0.47724 -0.885023 -0.027986   1.026729   \n",
            "98419   0.374618 -0.454434 -0.406252  -0.47724 -0.885023  0.295241  -0.987588   \n",
            "84307  -0.564629 -0.065516 -0.516791  -0.47724 -0.885023  1.588149  -0.987588   \n",
            "\n",
            "          Income  \n",
            "142299  0.530290  \n",
            "112154  0.530290  \n",
            "77653   1.008193  \n",
            "98419   0.052387  \n",
            "84307  -2.337131  \n",
            "\n",
            "[5 rows x 21 columns]\n"
          ]
        }
      ],
      "source": [
        "#see normlize data\n",
        "print(X_train.head())\n"
      ]
    },
    {
      "cell_type": "markdown",
      "metadata": {
        "id": "sdZk32t2UTms"
      },
      "source": [
        "# Plot the result of models"
      ]
    },
    {
      "cell_type": "code",
      "execution_count": null,
      "metadata": {
        "id": "OaSDEw35UTms"
      },
      "outputs": [],
      "source": [
        "def plot_result (y_test, y_pred):\n",
        "    # Create a confusion matrix\n",
        "    confusion_matrix = pd.crosstab(y_test, y_pred, rownames=['Actual'], colnames=['Predicted'])\n",
        "    sn.heatmap(confusion_matrix, annot=True, fmt='d')\n",
        "\n",
        "    # Print evaluation metrics\n",
        "    accuracy = metrics.accuracy_score(y_test, y_pred)\n",
        "    recall = metrics.recall_score(y_test, y_pred)\n",
        "    precision = metrics.precision_score(y_test, y_pred)  # Calculate Precision\n",
        "    f1 = f1_score(y_test, y_pred)  # Calculate F1-score\n",
        "\n",
        "    print('Accuracy:', accuracy)      #need to add precision   כמה חולים תפסת מתוך כל החולים באמת\n",
        "    print('Recall:', recall)\n",
        "    print('Precision:', precision)  # Precision measures the model's ability to correctly identify true positives\n",
        "    print('F1-Score:', f1)  # Print F1-score\n",
        "\n",
        "    plt.show()"
      ]
    },
    {
      "cell_type": "markdown",
      "metadata": {
        "id": "8eIRT3Es3xfa"
      },
      "source": [
        "# logistic_regression\n",
        "- The first algorithm that we want to implement is logistic_regression.\n",
        "- We will want to classifier the data"
      ]
    },
    {
      "cell_type": "code",
      "execution_count": null,
      "metadata": {
        "id": "h28NNJP_3zZZ"
      },
      "outputs": [],
      "source": [
        "def logistic_reg (X_train, y_train,X_test):\n",
        "    # Initialize and train the logistic regression model\n",
        "    logistic_regression = LogisticRegression()\n",
        "    logistic_regression.fit(X_train, y_train)\n",
        "    # Predictions\n",
        "    y_pred = logistic_regression.predict(X_test)\n",
        "    y_prob = logistic_regression.predict_proba(X_test)\n",
        "    return y_pred, y_prob"
      ]
    },
    {
      "cell_type": "code",
      "execution_count": null,
      "metadata": {
        "id": "-9wqYnfpKOfm",
        "colab": {
          "base_uri": "https://localhost:8080/",
          "height": 522
        },
        "outputId": "677222ae-7821-4d12-a4c4-74ce796a878e"
      },
      "outputs": [
        {
          "output_type": "stream",
          "name": "stdout",
          "text": [
            "Accuracy: 0.8991533470485836\n",
            "Recall: 0.11968016507608976\n",
            "Precision: 0.5305889079473985\n",
            "F1-Score: 0.19530674523834576\n"
          ]
        },
        {
          "output_type": "display_data",
          "data": {
            "text/plain": [
              "<Figure size 640x480 with 2 Axes>"
            ],
            "image/png": "[encoded data removed]"
          },
          "metadata": {}
        }
      ],
      "source": [
        "y_pred_LR, y_prob_LR= logistic_reg (X_train, y_train,X_test)\n",
        "plot_result (y_test, y_pred_LR)\n"
      ]
    },
    {
      "cell_type": "markdown",
      "metadata": {
        "id": "SbDaur6U61Xv"
      },
      "source": [
        "You can clearly see that the Accuracy is indeed good, on the other hand, the Recall is not good, and therefore the confusion matrix looks like this.\n",
        "Another thing that can be learned from the matrix is ​​that there are too many times in which the model predicted that the person is healthy, when in fact the person can indeed suffer from heart disease, in this case of heart attacks, this is an undesirable thing"
      ]
    },
    {
      "cell_type": "markdown",
      "metadata": {
        "id": "nZQfsGKAJBoO"
      },
      "source": [
        "# KNN ALGORITHM"
      ]
    },
    {
      "cell_type": "markdown",
      "metadata": {
        "id": "fy0tBhbUJU3-"
      },
      "source": [
        "- We will try to use an algorithm that does not build a model, for example the KNN algorithm.\n",
        "- We will use the same X and Y data."
      ]
    },
    {
      "cell_type": "code",
      "execution_count": null,
      "metadata": {
        "id": "2K9R42gAJ7JS",
        "colab": {
          "base_uri": "https://localhost:8080/"
        },
        "outputId": "6247c10b-ced6-459f-90b3-567ee7c7fbc1"
      },
      "outputs": [
        {
          "output_type": "stream",
          "name": "stdout",
          "text": [
            "x:\n",
            "        HighBP  HighChol  CholCheck   BMI  Smoker  Stroke  Diabetes  \\\n",
            "18286      0.0       1.0        1.0  21.0     1.0     0.0       0.0   \n",
            "59305      1.0       1.0        1.0  26.0     0.0     0.0       0.0   \n",
            "57246      0.0       1.0        1.0  28.0     0.0     0.0       0.0   \n",
            "175525     0.0       1.0        1.0  30.0     0.0     0.0       0.0   \n",
            "156139     0.0       0.0        1.0  28.0     0.0     0.0       0.0   \n",
            "\n",
            "        PhysActivity  Fruits  Veggies  ...  AnyHealthcare  NoDocbcCost  \\\n",
            "18286            1.0     1.0      1.0  ...            1.0          1.0   \n",
            "59305            1.0     1.0      1.0  ...            1.0          0.0   \n",
            "57246            1.0     0.0      1.0  ...            1.0          0.0   \n",
            "175525           1.0     1.0      1.0  ...            1.0          0.0   \n",
            "156139           1.0     1.0      1.0  ...            1.0          0.0   \n",
            "\n",
            "        GenHlth  MentHlth  PhysHlth  DiffWalk  Sex   Age  Education  Income  \n",
            "18286       1.0      30.0       0.0       0.0  0.0   7.0        5.0     6.0  \n",
            "59305       2.0       0.0       3.0       0.0  0.0   8.0        6.0     3.0  \n",
            "57246       2.0       3.0       1.0       0.0  0.0   5.0        6.0     8.0  \n",
            "175525      3.0       0.0       0.0       0.0  1.0  11.0        6.0     8.0  \n",
            "156139      2.0       0.0       0.0       0.0  1.0   2.0        6.0     6.0  \n",
            "\n",
            "[5 rows x 21 columns]\n",
            "y:\n",
            "18286     0.0\n",
            "59305     0.0\n",
            "57246     0.0\n",
            "175525    0.0\n",
            "156139    0.0\n",
            "Name: HeartDiseaseorAttack, dtype: float64\n"
          ]
        }
      ],
      "source": [
        "# Display the two DataFrames\n",
        "print(\"x:\")\n",
        "print(x.head())\n",
        "\n",
        "print(\"y:\")\n",
        "print(y.head())"
      ]
    },
    {
      "cell_type": "code",
      "execution_count": null,
      "metadata": {
        "id": "0WF92bfXN1vd"
      },
      "outputs": [],
      "source": [
        "def knn (X_train, y_train, X_test):\n",
        "\n",
        "    # Create the KNN classifier with the best k\n",
        "    knn = KNeighborsClassifier(n_neighbors=5)\n",
        "\n",
        "    # Train the model on the training data\n",
        "    knn.fit(X_train, y_train)\n",
        "\n",
        "    y_pred = knn.predict(X_test)\n",
        "    return y_pred"
      ]
    },
    {
      "cell_type": "code",
      "execution_count": null,
      "metadata": {
        "id": "O9oxhJgVK26R",
        "colab": {
          "base_uri": "https://localhost:8080/",
          "height": 522
        },
        "outputId": "daa82f62-1c1c-44d6-d5f6-3d8ee333fde7"
      },
      "outputs": [
        {
          "output_type": "stream",
          "name": "stdout",
          "text": [
            "Accuracy: 0.8856886638181147\n",
            "Recall: 0.153974358974359\n",
            "Precision: 0.3672782874617737\n",
            "F1-Score: 0.21698283649503164\n"
          ]
        },
        {
          "output_type": "display_data",
          "data": {
            "text/plain": [
              "<Figure size 640x480 with 2 Axes>"
            ],
            "image/png": "[encoded data removed]"
          },
          "metadata": {}
        }
      ],
      "source": [
        "y_pred_knn= knn (X_train, y_train, X_test)\n",
        "plot_result (y_test, y_pred_knn)"
      ]
    },
    {
      "cell_type": "markdown",
      "metadata": {
        "id": "vl4blQj2UTmw"
      },
      "source": [
        "# adaboost with LR\n",
        "- We running adaboost by the base classifier logistic regression"
      ]
    },
    {
      "cell_type": "code",
      "execution_count": null,
      "metadata": {
        "id": "1__ovM3ZUTmx"
      },
      "outputs": [],
      "source": [
        "def adaboost_LogisticRegression (X_train, y_train,X_test):\n",
        "    base_classifier = LogisticRegression(random_state=42)\n",
        "    # Create an AdaBoost classifier using the Logistic Regression as the base estimator (this is the \"weak learner\"- 50%+ epsilon%)\n",
        "\n",
        "    model_AdaBoost = AdaBoostClassifier(estimator=base_classifier, n_estimators=50) #We build the model that will fit, the model vase on LR and n_estimators- We used in 50 models of LR that will build a \"strong model\" (all h)\n",
        "\n",
        "    model_AdaBoost.fit(X_train, y_train) #update wheight # fit model\n",
        "    y_pred_adaboost = model_AdaBoost.predict(X_test)\n",
        "    return y_pred_adaboost\n"
      ]
    },
    {
      "cell_type": "code",
      "execution_count": null,
      "metadata": {
        "colab": {
          "base_uri": "https://localhost:8080/",
          "height": 522
        },
        "id": "QMSWG4nXUTmx",
        "outputId": "407c047b-0bf0-4777-cf60-1f0d51ae87f2"
      },
      "outputs": [
        {
          "output_type": "stream",
          "name": "stdout",
          "text": [
            "Accuracy: 0.8988500290130295\n",
            "Recall: 0.13231880319834924\n",
            "Precision: 0.5213414634146342\n",
            "F1-Score: 0.2110676815470068\n"
          ]
        },
        {
          "output_type": "display_data",
          "data": {
            "text/plain": [
              "<Figure size 640x480 with 2 Axes>"
            ],
            "image/png": "[encoded data removed]"
          },
          "metadata": {}
        }
      ],
      "source": [
        "y_pred_adaboost= adaboost_LogisticRegression (X_train, y_train,X_test)\n",
        "plot_result (y_test, y_pred_adaboost)"
      ]
    },
    {
      "cell_type": "markdown",
      "metadata": {
        "id": "fgnc7g1jUTmx"
      },
      "source": [
        "# Explain for the data\n",
        "The data is not balance, as a result we can see the the algorithms not give a 50+ epsilone succes therefore the Adaboost not working well.\n",
        "Also the KNN algorithm has a bad errpr metric, beacuse the data is not balance."
      ]
    },
    {
      "cell_type": "markdown",
      "metadata": {
        "id": "qzhhcyMFoiWt"
      },
      "source": [
        "#Method to fix balance data\n",
        "\n",
        "> Indented block\n",
        "\n",
        "\n",
        "- we used in RandomUnderSampler to fix the data"
      ]
    },
    {
      "cell_type": "code",
      "execution_count": null,
      "metadata": {
        "id": "xWEk7BtoooEj",
        "colab": {
          "base_uri": "https://localhost:8080/"
        },
        "outputId": "73668075-ab53-4621-a10d-2f0f8dd05821"
      },
      "outputs": [
        {
          "output_type": "execute_result",
          "data": {
            "text/plain": [
              "((57598, 21), (57598,))"
            ]
          },
          "metadata": {},
          "execution_count": 14
        }
      ],
      "source": [
        "from imblearn.under_sampling import RandomUnderSampler\n",
        "undersample = RandomUnderSampler(sampling_strategy=0.7)\n",
        "X_under, y_under = undersample.fit_resample(x, y)\n",
        "\n",
        "X_under.shape , y_under.shape"
      ]
    },
    {
      "cell_type": "code",
      "source": [
        "# Calculate the distribution of the 'HeartDiseaseorAttack' variable\n",
        "heart_disease_counts = y_under.value_counts()\n",
        "\n",
        "# Create a pie chart\n",
        "plt.figure(figsize=(4, 4))  # You can adjust the figure size as needed\n",
        "plt.pie(heart_disease_counts, labels=heart_disease_counts.index, autopct='%1.1f%%', startangle=140)\n",
        "plt.title('Distribution of Heart Disease or Heart Attack')\n",
        "plt.axis('equal')  # Equal aspect ratio ensures that pie is drawn as a circle\n",
        "\n",
        "plt.show()"
      ],
      "metadata": {
        "colab": {
          "base_uri": "https://localhost:8080/",
          "height": 367
        },
        "id": "6zTHqWnfWAX2",
        "outputId": "2acdbc24-82c0-4e80-cdd6-9abf609cf2bf"
      },
      "execution_count": null,
      "outputs": [
        {
          "output_type": "display_data",
          "data": {
            "text/plain": [
              "<Figure size 400x400 with 1 Axes>"
            ],
            "image/png": "[encoded data removed]"
          },
          "metadata": {}
        }
      ]
    },
    {
      "cell_type": "code",
      "execution_count": null,
      "metadata": {
        "id": "p6B6p7rSpaTh"
      },
      "outputs": [],
      "source": [
        "scaler = preprocessing.StandardScaler()\n",
        "d = scaler.fit_transform(X_under)\n",
        "xNormalized_us = pd.DataFrame(d, columns=X_under.columns)\n",
        "\n",
        "# split the data to 67% train and 33% test\n",
        "X_train_us, X_test_us, y_train_us, y_test_us = train_test_split(xNormalized_us, y_under, test_size=0.33, random_state=42)"
      ]
    },
    {
      "cell_type": "markdown",
      "metadata": {
        "id": "JaGZpQd9UTmz"
      },
      "source": [
        "# New Result for balance data\n",
        "- Now when the data is balance we can excpeting to good error metric"
      ]
    },
    {
      "cell_type": "markdown",
      "metadata": {
        "id": "tAdciN8TUTm0"
      },
      "source": [
        "- Run again Logistic regression with balance data"
      ]
    },
    {
      "cell_type": "code",
      "execution_count": null,
      "metadata": {
        "id": "zQ036qAQpuQp",
        "colab": {
          "base_uri": "https://localhost:8080/",
          "height": 527
        },
        "outputId": "8b3d62a5-ec50-41d8-b711-56b50c1f6910"
      },
      "outputs": [
        {
          "output_type": "stream",
          "name": "stdout",
          "text": [
            "Accuracy: 0.7596801346801347\n",
            "Recall: 0.693791517629024\n",
            "Precision: 0.7144172586161537\n",
            "F1-Score: 0.703953337653921\n"
          ]
        },
        {
          "output_type": "display_data",
          "data": {
            "text/plain": [
              "<Figure size 640x480 with 2 Axes>"
            ],
            "image/png": "[encoded data removed]"
          },
          "metadata": {}
        }
      ],
      "source": [
        "y_pred_LR_us, y_prob_LR= logistic_reg (X_train_us, y_train_us,X_test_us)\n",
        "plot_result (y_test_us, y_pred_LR_us)"
      ]
    },
    {
      "cell_type": "markdown",
      "metadata": {
        "id": "7YeKm-PXUTm0"
      },
      "source": [
        "- Run again Knn with balance data"
      ]
    },
    {
      "cell_type": "code",
      "execution_count": null,
      "metadata": {
        "id": "3fL8K3aTp6GY",
        "colab": {
          "base_uri": "https://localhost:8080/",
          "height": 522
        },
        "outputId": "647c03b3-8d16-459d-df2f-001d7092f615"
      },
      "outputs": [
        {
          "output_type": "stream",
          "name": "stdout",
          "text": [
            "Accuracy: 0.71875\n",
            "Recall: 0.6637710781808891\n",
            "Precision: 0.656890012642225\n",
            "F1-Score: 0.6603126191383911\n"
          ]
        },
        {
          "output_type": "display_data",
          "data": {
            "text/plain": [
              "<Figure size 640x480 with 2 Axes>"
            ],
            "image/png": "[encoded data removed]"
          },
          "metadata": {}
        }
      ],
      "source": [
        "y_pred_knn_us= knn (X_train_us, y_train_us,X_test_us)\n",
        "plot_result (y_test_us, y_pred_knn_us)"
      ]
    },
    {
      "cell_type": "code",
      "execution_count": null,
      "metadata": {
        "colab": {
          "base_uri": "https://localhost:8080/",
          "height": 522
        },
        "id": "EjD_JOhPUTm2",
        "outputId": "3091dded-a8b6-4a7a-d18f-376058cb8777"
      },
      "outputs": [
        {
          "output_type": "stream",
          "name": "stdout",
          "text": [
            "Accuracy: 0.7085904942765205\n",
            "Recall: 0.8230590662883673\n",
            "Precision: 0.23543734090825247\n",
            "F1-Score: 0.3661398123978084\n"
          ]
        },
        {
          "output_type": "display_data",
          "data": {
            "text/plain": [
              "<Figure size 640x480 with 2 Axes>"
            ],
            "image/png": "[encoded data removed]"
          },
          "metadata": {}
        }
      ],
      "source": [
        "y_pred_adaboost_us= adaboost_LogisticRegression (X_train_us, y_train_us,X_test)\n",
        "plot_result (y_test, y_pred_adaboost_us)"
      ]
    },
    {
      "cell_type": "markdown",
      "source": [
        "# **Explain**\n",
        "The fix of data improve the error metric but adaboost doesn't improve more, becuase:\n",
        "1. there is overfitting. The LR model made a good metric of error that Adaboost can not improve it.\n",
        "2. The data is more balance but is not totaly balanced (50% to class zero and 50% to class 1) and maybe it's the causes that Adaboost not improve.\n",
        "\n"
      ],
      "metadata": {
        "id": "GAuzXhcck7Fa"
      }
    },
    {
      "cell_type": "code",
      "source": [],
      "metadata": {
        "id": "ecZQG37WB-1j"
      },
      "execution_count": null,
      "outputs": []
    }
  ],
  "metadata": {
    "colab": {
      "provenance": []
    },
    "kernelspec": {
      "display_name": "Python 3 (ipykernel)",
      "language": "python",
      "name": "python3"
    },
    "language_info": {
      "codemirror_mode": {
        "name": "ipython",
        "version": 3
      },
      "file_extension": ".py",
      "mimetype": "text/x-python",
      "name": "python",
      "nbconvert_exporter": "python",
      "pygments_lexer": "ipython3",
      "version": "3.9.13"
    }
  },
  "nbformat": 4,
  "nbformat_minor": 0
}